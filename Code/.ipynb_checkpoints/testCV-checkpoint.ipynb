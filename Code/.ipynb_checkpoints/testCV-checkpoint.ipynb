{
 "cells": [
  {
   "cell_type": "code",
   "execution_count": 107,
   "metadata": {},
   "outputs": [],
   "source": [
    "import cv2\n",
    "import os\n",
    "import numpy as np\n",
    "import matplotlib.pyplot as plt\n",
    "import math\n",
    "import random\n",
    "import tensorflow as tf"
   ]
  },
  {
   "cell_type": "code",
   "execution_count": 115,
   "metadata": {},
   "outputs": [],
   "source": [
    "np.random.seed(125)\n",
    "#Create one hot encoded class variables for 101 classes\n",
    "all_classes = tf.one_hot(list(range(1,102)),101)"
   ]
  },
  {
   "cell_type": "code",
   "execution_count": 2,
   "metadata": {},
   "outputs": [],
   "source": [
    "#Create folder for storing the frames\n",
    " \n",
    "splitfiledir = r\"..\\ucfTrainTestlist\"\n",
    "splitfile = \"mytest.txt\"\n",
    "splitname = splitfile.split('.')[0]"
   ]
  },
  {
   "cell_type": "code",
   "execution_count": 3,
   "metadata": {},
   "outputs": [],
   "source": [
    "def storeFramesAndFlows(framesdir,splitfiledir,splitfile,splitname):\n",
    "    \n",
    "    #Read splitfile\n",
    "    lines = open(os.path.join(splitfiledir,splitfile),\"r\")\n",
    "    for line in lines:\n",
    "        arr = line.split(\" \")\n",
    "        vidclass = arr[1] \n",
    "        line = arr[0].split(\"/\")\n",
    "        print (line)\n",
    "        action = line[0]\n",
    "        filename = line[1]\n",
    "        actionpath = os.path.join(framesdir,splitname,action)\n",
    "        framepath = os.path.join(actionpath,filename,\"frames\")\n",
    "        flowpath = os.path.join(actionpath,filename,\"flows\")\n",
    "        \n",
    "        #Create folder for Action\n",
    "        if not os.path.exists(actionpath):\n",
    "            os.mkdir(actionpath)\n",
    "        \n",
    "        #Create folder for videofile\n",
    "        if not os.path.exists(os.path.join(actionpath,filename)):\n",
    "            os.mkdir(os.path.join(actionpath,filename))\n",
    "        \n",
    "        #Create folder for frames\n",
    "        if not os.path.exists(framepath):\n",
    "            os.mkdir(framepath)\n",
    "            \n",
    "        #Create folder for flows\n",
    "        if not os.path.exists(flowpath):\n",
    "            os.mkdir(flowpath)\n",
    "\n",
    "        #Read video and collect frames, flows\n",
    "        vidcap = cv2.VideoCapture(os.path.join(path,action,filename))\n",
    "        count = 0 \n",
    "        prevFrame = None\n",
    "        nextFrame = None\n",
    "        while True:\n",
    "            success,image = vidcap.read()\n",
    "            if not success:\n",
    "                break\n",
    "            frame = \"frame_%d.jpg\"%count\n",
    "            flow_x = \"flow_x_%d.jpg\"%count\n",
    "            flow_y = \"flow_y_%d.jpg\"%count\n",
    "            framename = os.path.join(framepath,frame)\n",
    "            flowname_x = os.path.join(flowpath,flow_x)\n",
    "            flowname_y = os.path.join(flowpath,flow_y)\n",
    "            if count == 0:\n",
    "                prevFrame = cv2.cvtColor(image,cv2.COLOR_BGR2GRAY)\n",
    "                cv2.imwrite(framename,image)\n",
    "                if cv2.waitKey(1) & 0xFF == ord('q'):\n",
    "                    break\n",
    "                count += 1\n",
    "                continue\n",
    "            \n",
    "            nextFrame = cv2.cvtColor(image,cv2.COLOR_BGR2GRAY)\n",
    "            cv2.imwrite(framename,image)\n",
    "            optical_flow = cv2.optflow.DualTVL1OpticalFlow_create()\n",
    "            flow = optical_flow.calc(prevFrame, nextFrame, None)\n",
    "            prevFrame = nextFrame\n",
    "            flow[...,0] = cv2.normalize(flow[...,0],None,0,255,cv2.NORM_MINMAX)\n",
    "            flow[...,1] = cv2.normalize(flow[...,1],None,0,255,cv2.NORM_MINMAX)\n",
    "            cv2.imwrite(flowname_x,flow[...,0])\n",
    "            cv2.imwrite(flowname_y,flow[...,1])\n",
    "\n",
    "            if cv2.waitKey(1) & 0xFF == ord('q'):\n",
    "                break\n",
    "            count += 1\n",
    "            \n",
    "        filename = os.path.join(actionpath,filename,\"info.txt\")\n",
    "        #Store the frames count in txt file\n",
    "        rate = open(filename,\"w\")\n",
    "        rate.write(\"frames:\"+str(count))\n",
    "        rate.write(\"\\n\")\n",
    "        rate.write(\"class:\"+vidclass)\n",
    "        rate.close()\n",
    "\n",
    "        #Close the video object\n",
    "        vidcap.release()\n",
    "\n",
    "    print (\"Stored\")"
   ]
  },
  {
   "cell_type": "code",
   "execution_count": 4,
   "metadata": {
    "scrolled": true
   },
   "outputs": [
    {
     "name": "stdout",
     "output_type": "stream",
     "text": [
      "Frames stored already!\n"
     ]
    }
   ],
   "source": [
    "#Store Frames\n",
    "framesdir = r\"..\\FramesFlows\"\n",
    "\n",
    "path = r\"E:\\capstone_adbi_data\\UCF-101\"\n",
    "\n",
    "\n",
    "if not os.path.exists(os.path.join(framesdir,splitname)):\n",
    "    os.mkdir(os.path.join(framesdir,splitname))\n",
    "    storeFramesAndFlows(framesdir,splitfiledir,splitfile,splitname)\n",
    "else:\n",
    "    print (\"Frames stored already!\")"
   ]
  },
  {
   "cell_type": "code",
   "execution_count": 8,
   "metadata": {},
   "outputs": [],
   "source": [
    "#Decided to keep number of segments as 5 for now"
   ]
  },
  {
   "cell_type": "code",
   "execution_count": 112,
   "metadata": {},
   "outputs": [
    {
     "name": "stdout",
     "output_type": "stream",
     "text": [
      "Frames' shape: (149, 240, 320)\n",
      "Flows' shape: (148, 240, 320)\n"
     ]
    }
   ],
   "source": [
    "#Get the class\n",
    "infopath = r\"..\\FramesFlows\\mytest\\ApplyLipstick\\v_ApplyLipstick_g01_c01.avi\\info.txt\"\n",
    "f = open(infopath,\"r\")\n",
    "class_index = int(f.readlines()[1].strip().split(':')[1])\n",
    "y_actual = all_classes[class_index-1]\n",
    "\n",
    "# Study of frames\n",
    "imgpath = r\"..\\FramesFlows\\mytest\\ApplyLipstick\\v_ApplyLipstick_g01_c01.avi\\frames\"\n",
    "flowspath = r\"..\\FramesFlows\\mytest\\ApplyLipstick\\v_ApplyLipstick_g01_c01.avi\\flows\"\n",
    "\n",
    "\n",
    "allframes = os.listdir(imgpath)\n",
    "allflows = os.listdir(flowspath)\n",
    "\n",
    "#Sort frames sequentially\n",
    "allframes.sort(key = lambda x: int(x.split('_')[1].split('.')[0]))\n",
    "\n",
    "#Sort flows sequentially\n",
    "xflows = list(filter(lambda k: k.split('_')[1] == 'x',allflows))\n",
    "yflows = list(filter(lambda k: k.split('_')[1] == 'y',allflows))\n",
    "xflows.sort(key = lambda x: int(x.split('_')[2].split('.')[0]))\n",
    "yflows.sort(key = lambda x: int(x.split('_')[2].split('.')[0]))\n",
    "\n",
    "#Stack up frames for one video and divide into segments\n",
    "stack = list()\n",
    "for frame in allframes:\n",
    "    img = cv2.imread(os.path.join(imgpath,frame))\n",
    "    grayimg = cv2.cvtColor(img,cv2.COLOR_BGR2GRAY)\n",
    "    stack.append(grayimg)\n",
    "videoFrames = np.asarray(stack)\n",
    "print (\"Frames' shape:\",videoFrames.shape)\n",
    "framesSegments = np.array_split(videoFrames,5)\n",
    "\n",
    "#Stack up flows for one video and divide into segments\n",
    "xstack = list()\n",
    "ystack = list()\n",
    "for xflow,yflow in zip(xflows,yflows):\n",
    "    xfl = cv2.imread(os.path.join(flowspath,xflow))\n",
    "    yfl = cv2.imread(os.path.join(flowspath,yflow))\n",
    "    grayxfl = cv2.cvtColor(xfl,cv2.COLOR_BGR2GRAY)\n",
    "    grayyfl = cv2.cvtColor(yfl,cv2.COLOR_BGR2GRAY)\n",
    "    xstack.append(grayxfl)\n",
    "    ystack.append(grayyfl)\n",
    "videoFlowsX = np.asarray(xstack)\n",
    "videoFlowsY = np.asarray(ystack)\n",
    "print (\"Flows' shape:\",videoFlowsX.shape)\n",
    "flowsSegmentsX = np.array_split(videoFlowsX,5)\n",
    "flowsSegmentsY = np.array_split(videoFlowsY,5)\n"
   ]
  },
  {
   "cell_type": "code",
   "execution_count": 113,
   "metadata": {},
   "outputs": [],
   "source": [
    "#Get k(equal to segments) random samples from frames from segments\n",
    "frameSamples = list()\n",
    "for segment in framesSegments:\n",
    "    frameSamples.append(segment[np.random.choice(segment.shape[0],1)])"
   ]
  }
 ],
 "metadata": {
  "kernelspec": {
   "display_name": "Python 3",
   "language": "python",
   "name": "python3"
  },
  "language_info": {
   "codemirror_mode": {
    "name": "ipython",
    "version": 3
   },
   "file_extension": ".py",
   "mimetype": "text/x-python",
   "name": "python",
   "nbconvert_exporter": "python",
   "pygments_lexer": "ipython3",
   "version": "3.6.7"
  }
 },
 "nbformat": 4,
 "nbformat_minor": 2
}
