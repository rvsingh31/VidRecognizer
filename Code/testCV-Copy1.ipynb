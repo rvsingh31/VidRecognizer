{
 "cells": [
  {
   "cell_type": "code",
   "execution_count": 3,
   "metadata": {},
   "outputs": [
    {
     "name": "stderr",
     "output_type": "stream",
     "text": [
      "Using TensorFlow backend.\n"
     ]
    }
   ],
   "source": [
    "import cv2\n",
    "import os\n",
    "import numpy as np\n",
    "import matplotlib.pyplot as plt\n",
    "import math\n",
    "import random\n",
    "from collections import defaultdict\n",
    "import keras\n",
    "from tsn import TSN"
   ]
  },
  {
   "cell_type": "code",
   "execution_count": 24,
   "metadata": {},
   "outputs": [],
   "source": [
    "# from tensorflow.python.client import device_lib\n",
    "# print(device_lib.list_local_devices())"
   ]
  },
  {
   "cell_type": "code",
   "execution_count": 5,
   "metadata": {},
   "outputs": [],
   "source": [
    "#Create folder for storing the frames\n",
    " \n",
    "splitfiledir = r\"..\\ucfTrainTestlist\"\n",
    "splitfile = \"mytest.txt\"\n",
    "splitname = splitfile.split('.')[0]"
   ]
  },
  {
   "cell_type": "code",
   "execution_count": 8,
   "metadata": {},
   "outputs": [],
   "source": [
    "def storeFramesAndFlows(framesdir,splitfiledir,splitfile,splitname):\n",
    "    \n",
    "    #Read splitfile\n",
    "    lines = open(os.path.join(splitfiledir,splitfile),\"r\")\n",
    "    for line in lines:\n",
    "        arr = line.split(\" \")\n",
    "        vidclass = arr[1] \n",
    "        line = arr[0].split(\"/\")\n",
    "        action = line[0]\n",
    "        filename = line[1]\n",
    "#         if filename.split(\"_\")[2] not in ('g08','g09'):\n",
    "#             continue\n",
    "        actionpath = os.path.join(framesdir,splitname,action)\n",
    "        framepath = os.path.join(actionpath,filename,\"frames\")\n",
    "        flowpath = os.path.join(actionpath,filename,\"flows\")\n",
    "        \n",
    "        #Create folder for Action\n",
    "        if not os.path.exists(actionpath):\n",
    "            os.mkdir(actionpath)\n",
    "        \n",
    "        #Create folder for videofile\n",
    "        if not os.path.exists(os.path.join(actionpath,filename)):\n",
    "            os.mkdir(os.path.join(actionpath,filename))\n",
    "        \n",
    "        #Create folder for frames\n",
    "        if not os.path.exists(framepath):\n",
    "            os.mkdir(framepath)\n",
    "            \n",
    "        #Create folder for flows\n",
    "        if not os.path.exists(flowpath):\n",
    "            os.mkdir(flowpath)\n",
    "\n",
    "        #Read video and collect frames, flows\n",
    "        vidcap = cv2.VideoCapture(os.path.join(path,action,filename))\n",
    "        \n",
    "#         print (int(vidcap.get(cv2.CAP_PROP_FRAME_COUNT)))\n",
    "        count = 0 \n",
    "        prevFrame = None\n",
    "        nextFrame = None\n",
    "        while True:\n",
    "            success,image = vidcap.read()\n",
    "            #Resize image to remain consistent with BN Inception model\n",
    "            if not success:\n",
    "                break\n",
    "            image = cv2.resize(image,(224,224))\n",
    "            frame = \"frame_%d.jpg\"%count\n",
    "            flow_x = \"flow_x_%d.jpg\"%count\n",
    "            flow_y = \"flow_y_%d.jpg\"%count\n",
    "            framename = os.path.join(framepath,frame)\n",
    "            flowname_x = os.path.join(flowpath,flow_x)\n",
    "            flowname_y = os.path.join(flowpath,flow_y)\n",
    "            if count == 0:\n",
    "                prevFrame = cv2.cvtColor(image,cv2.COLOR_BGR2GRAY)\n",
    "                cv2.imwrite(framename,image)\n",
    "                if cv2.waitKey(1) & 0xFF == ord('q'):\n",
    "                    break\n",
    "                count += 1\n",
    "                continue\n",
    "            \n",
    "            nextFrame = cv2.cvtColor(image,cv2.COLOR_BGR2GRAY)\n",
    "            cv2.imwrite(framename,image)\n",
    "            optical_flow = cv2.optflow.DualTVL1OpticalFlow_create()\n",
    "            flow = optical_flow.calc(prevFrame, nextFrame, None)\n",
    "            prevFrame = nextFrame\n",
    "            flow[...,0] = cv2.normalize(flow[...,0],None,0,255,cv2.NORM_MINMAX)\n",
    "            flow[...,1] = cv2.normalize(flow[...,1],None,0,255,cv2.NORM_MINMAX)\n",
    "            cv2.imwrite(flowname_x,flow[...,0])\n",
    "            cv2.imwrite(flowname_y,flow[...,1])\n",
    "\n",
    "            if cv2.waitKey(1) & 0xFF == ord('q'):\n",
    "                break\n",
    "            count += 1\n",
    "            \n",
    "        filename = os.path.join(actionpath,filename,\"info.txt\")\n",
    "        #Store the frames count in txt file\n",
    "        rate = open(filename,\"w\")\n",
    "        rate.write(\"frames:\"+str(count))\n",
    "        rate.write(\"\\n\")\n",
    "        rate.write(\"class:\"+vidclass)\n",
    "        rate.close()\n",
    "\n",
    "        #Close the video object\n",
    "        vidcap.release()\n",
    "\n",
    "    print (\"Stored\")"
   ]
  },
  {
   "cell_type": "code",
   "execution_count": 6,
   "metadata": {
    "scrolled": true
   },
   "outputs": [
    {
     "name": "stdout",
     "output_type": "stream",
     "text": [
      "Frames stored already!\n"
     ]
    }
   ],
   "source": [
    "#Store Frames\n",
    "framesdir = r\"../FramesFlows\"\n",
    "\n",
    "# path = r\"../../UCF-101\"\n",
    "path = r\"E:\\capstone_adbi_data\\UCF-101\"\n",
    "\n",
    "if not os.path.exists(os.path.join(framesdir,splitname)):\n",
    "    os.mkdir(os.path.join(framesdir,splitname))\n",
    "    storeFramesAndFlows(framesdir,splitfiledir,splitfile,splitname)\n",
    "else:\n",
    "    print (\"Frames stored already!\")"
   ]
  },
  {
   "cell_type": "code",
   "execution_count": 10,
   "metadata": {},
   "outputs": [
    {
     "name": "stdout",
     "output_type": "stream",
     "text": [
      "(240, 320)\n"
     ]
    }
   ],
   "source": [
    "myFrameNumber = 50\n",
    "cap = cv2.VideoCapture(os.path.join(path,\"ApplyEyeMakeup\",\"v_ApplyEyeMakeup_g01_c01.avi\"))\n",
    "\n",
    "# get total number of frames\n",
    "totalFrames = cap.get(cv2.CAP_PROP_FRAME_COUNT)\n",
    "\n",
    "# check for valid frame number\n",
    "if myFrameNumber >= 0 & myFrameNumber <= totalFrames:\n",
    "    # set frame position\n",
    "    cap.set(cv2.CAP_PROP_POS_FRAMES,myFrameNumber)\n",
    "\n",
    "_, frame = cap.read()\n",
    "frame = cv2.cvtColor(frame,cv2.COLOR_BGR2GRAY)\n",
    "print (frame.shape)"
   ]
  },
  {
   "cell_type": "code",
   "execution_count": 29,
   "metadata": {},
   "outputs": [],
   "source": [
    "def getFF(classpath):\n",
    "    frames = list()\n",
    "    xflows = list()\n",
    "    yflows = list()\n",
    "    #Stack up frames and flows\n",
    "    min_frames = float('inf')\n",
    "    min_flows = float('inf')\n",
    "    y_true = None\n",
    "    for folder in os.listdir(classpath):\n",
    "        folderpath = os.path.join(classpath,folder)\n",
    "        # infopath = folderpath\\info.txt\n",
    "        infopath = os.path.join(folderpath,\"info.txt\")\n",
    "        # Read info.txt for extracting class\n",
    "        f = open(infopath,\"r\")\n",
    "        y_true = int(f.readlines()[1].strip().split(':')[1])\n",
    "\n",
    "        # Collect frames\n",
    "        imgpath = os.path.join(folderpath,\"frames\")\n",
    "        flowspath = os.path.join(folderpath,\"flows\")\n",
    "\n",
    "        allframes = os.listdir(imgpath)\n",
    "        allflows = os.listdir(flowspath)\n",
    "        min_frames = min(len(allframes),min_frames)\n",
    "\n",
    "        #Sort frames sequentially\n",
    "        allframes.sort(key = lambda x: int(x.split('_')[1].split('.')[0]))\n",
    "\n",
    "        #Sort flows sequentially\n",
    "        allxflows = list(filter(lambda k: k.split('_')[1] == 'x',allflows))\n",
    "        allyflows = list(filter(lambda k: k.split('_')[1] == 'y',allflows))\n",
    "        allxflows.sort(key = lambda x: int(x.split('_')[2].split('.')[0]))\n",
    "        allyflows.sort(key = lambda x: int(x.split('_')[2].split('.')[0]))\n",
    "        min_flows = min(len(allxflows),min_flows)\n",
    "\n",
    "        stack = list()\n",
    "        for frame in allframes:\n",
    "            img = cv2.imread(os.path.join(imgpath,frame))\n",
    "            grayimg = cv2.cvtColor(img,cv2.COLOR_BGR2GRAY)\n",
    "            grayimg = np.expand_dims(grayimg,axis = 2)\n",
    "            stack.append(grayimg)\n",
    "        frames.append(np.array(stack))\n",
    "        \n",
    "        \n",
    "        #Collect flows\n",
    "        xstack = list()\n",
    "        ystack = list()\n",
    "        for xflow,yflow in zip(allxflows,allyflows):\n",
    "            xfl = cv2.imread(os.path.join(flowspath,xflow))\n",
    "            yfl = cv2.imread(os.path.join(flowspath,yflow))\n",
    "            grayxfl = cv2.cvtColor(xfl,cv2.COLOR_BGR2GRAY)\n",
    "            grayyfl = cv2.cvtColor(yfl,cv2.COLOR_BGR2GRAY)\n",
    "            grayxfl = np.expand_dims(grayxfl,axis = 2)\n",
    "            grayyfl = np.expand_dims(grayyfl,axis = 2)\n",
    "            xstack.append(grayxfl)\n",
    "            ystack.append(grayyfl)\n",
    "        xflows.append(np.array(xstack))\n",
    "        yflows.append(np.array(ystack))\n",
    "\n",
    "    return frames, xflows, yflows, y_true\n"
   ]
  },
  {
   "cell_type": "code",
   "execution_count": null,
   "metadata": {},
   "outputs": [],
   "source": [
    "dfpath = r\"../FramesFlows/trainlist01\"\n",
    "frames_dict = dict()\n",
    "xflows_dict = dict()\n",
    "yflows_dict = dict()\n",
    "for each in os.listdir(dfpath):\n",
    "    classpath = os.path.join(dfpath,each)\n",
    "    frames, xflows, yflows, class_name = getFF(classpath)\n",
    "    frames_dict[class_name] = frames\n",
    "    xflows_dict[class_name] = xflows\n",
    "    yflows_dict[class_name] = yflows\n"
   ]
  },
  {
   "cell_type": "code",
   "execution_count": null,
   "metadata": {},
   "outputs": [],
   "source": []
  },
  {
   "cell_type": "code",
   "execution_count": 13,
   "metadata": {},
   "outputs": [
    {
     "data": {
      "text/plain": [
       "(149, 224, 224, 1)"
      ]
     },
     "execution_count": 13,
     "metadata": {},
     "output_type": "execute_result"
    }
   ],
   "source": [
    "#Dictionary key is the class\n",
    "#Second index represents video number in that class (starting from 0)\n",
    "#Shape shows NO_OF_FRAMES*HEIGHT_OF_IMAGE*WIDTH_OF_IMAGE\n",
    "frames_dict[2][0].shape"
   ]
  },
  {
   "cell_type": "code",
   "execution_count": 10,
   "metadata": {},
   "outputs": [],
   "source": [
    "#Decided to keep number of segments as 3 for now (consistent with the paper)\n",
    "segments = 3"
   ]
  },
  {
   "cell_type": "code",
   "execution_count": 14,
   "metadata": {},
   "outputs": [],
   "source": [
    "def one_hot_encode(data, classes = 101):\n",
    "    \"\"\"\n",
    "    :param data: data to be one hot encoded\n",
    "    :return: np array with one hot encoding\n",
    "    \"\"\"\n",
    "    labels = np.zeros((data.size, classes))\n",
    "    labels[np.arange(data.size), data - 1] = 1\n",
    "    return labels\n",
    "\n",
    "def getSegments(frames_dict,segments=3):\n",
    "    #Get k(equal to segments) random samples(snippets) from frames\n",
    "    framesSegments = defaultdict(list)\n",
    "    ySegments = defaultdict(list)\n",
    "    np.random.seed(0)\n",
    "    for class_name in frames_dict.keys():\n",
    "        videos = frames_dict[class_name]\n",
    "        for video in videos:\n",
    "            vsegs = np.array_split(video,segments)\n",
    "            for x in range(len(vsegs)):\n",
    "                idx = np.random.randint(vsegs[x].shape[0])\n",
    "                #Append random snippet to segments dictionary\n",
    "                framesSegments[x].append(vsegs[x][idx])\n",
    "                ySegments[x].append(class_name)\n",
    "    \n",
    "    #One hot encoding\n",
    "    for x in range(segments):\n",
    "        ySegments[x] = one_hot_encode(np.array(ySegments[x]))\n",
    "\n",
    "    return framesSegments, ySegments"
   ]
  },
  {
   "cell_type": "code",
   "execution_count": 15,
   "metadata": {},
   "outputs": [],
   "source": [
    "framesSegments, yFramesTrueSegments = getSegments(frames_dict)\n",
    "xFlowsSegments, yFlowsTrueSegments = getSegments(xflows_dict)\n",
    "yFlowsSegments, yFlowsTrueSegments = getSegments(yflows_dict)"
   ]
  },
  {
   "cell_type": "code",
   "execution_count": 16,
   "metadata": {},
   "outputs": [
    {
     "data": {
      "text/plain": [
       "(224, 224, 1)"
      ]
     },
     "execution_count": 16,
     "metadata": {},
     "output_type": "execute_result"
    }
   ],
   "source": [
    "#key is segment number(0,1...segments) and second index in the image\n",
    "framesSegments[0][1].shape\n",
    "#key is segment number(0,1,...segments) and second index returns one hot encoded class for the respective image\n",
    "# yFramesTrueSegments[2][4]"
   ]
  },
  {
   "cell_type": "code",
   "execution_count": 17,
   "metadata": {},
   "outputs": [],
   "source": [
    "def getMixedSegments(x,y):\n",
    "    final = dict()\n",
    "    for key in x.keys():\n",
    "        mylist = list()\n",
    "        for a,b in zip(x[key],y[key]):\n",
    "            new = np.stack((a,b),axis = 2)\n",
    "            new = np.squeeze(new,axis = 3)\n",
    "            mylist.append(new)\n",
    "        final[key] = mylist\n",
    "    return final"
   ]
  },
  {
   "cell_type": "code",
   "execution_count": 18,
   "metadata": {},
   "outputs": [],
   "source": [
    "flows = getMixedSegments(xFlowsSegments, yFlowsSegments)"
   ]
  },
  {
   "cell_type": "code",
   "execution_count": 19,
   "metadata": {},
   "outputs": [],
   "source": [
    "#We need separate networks (equal to segments) working in parallel \n",
    "#Parameters for BN-Inception network\n",
    "#We need Inputs: a tensor of shape [batch_size, height, width, channels].\n",
    "imageHeight = 224\n",
    "imageWidth = 224\n",
    "colorChannels = 1\n",
    "num_classes = 101\n",
    "learning_rate = 0.001\n",
    "# X = tf.placeholder(tf.float32,(None,imageHeight,imageWidth,colorChannels))\n",
    "# y = tf.placeholder(tf.float32,(None,num_classes))"
   ]
  },
  {
   "cell_type": "code",
   "execution_count": 38,
   "metadata": {},
   "outputs": [],
   "source": [
    "class dataGenerator(keras.utils.Sequence):\n",
    "\n",
    "    def __init__(self, listpath, ffpath, batch_size, ftype = \"frames\", segments = 3, test=False):\n",
    "        self.filenames = list()\n",
    "        self.labels = list()\n",
    "        self.listpath = listpath\n",
    "        self.batch_size = batch_size\n",
    "        self.folderpath = ffpath\n",
    "        self.ftype = ftype\n",
    "        self.segments = segments\n",
    "        \n",
    "        with open(self.listpath,\"r\") as f:\n",
    "            for line in f.readlines():\n",
    "                arr = line.split(\" \")\n",
    "                self.filenames.append(arr[0])\n",
    "                self.labels.append(int(arr[1].strip()))\n",
    "        \n",
    "    def __len__(self):\n",
    "        return len(self.image_filenames)//self.batch_size\n",
    "\n",
    "    def __getitem__(self, idx):\n",
    "        batch_x = self.filenames[idx * self.batch_size:(idx + 1) * self.batch_size]\n",
    "        batch_y = self.labels[idx * self.batch_size:(idx + 1) * self.batch_size]\n",
    "        \n",
    "        if self.ftype == \"frames\":\n",
    "            X = defaultdict(list)\n",
    "            Y = defaultdict(list)\n",
    "            for index,each in enumerate(batch_x):\n",
    "                infopath = os.path.join(self.folderpath,each,\"info.txt\")\n",
    "                imgpath = os.path.join(self.folderpath,each,self.ftype)\n",
    "                f = open(infopath,\"r\")\n",
    "                total_frames = int(f.readlines()[0].strip().split(':')[1])\n",
    "                f.close()\n",
    "                idxs = []\n",
    "                base = total_frames//self.segments\n",
    "                low = 0\n",
    "                for _ in range(segments):\n",
    "                    high = min(low + base, total_frames)\n",
    "                    idxs.append(np.random.randint(low, high,1)[0])\n",
    "                    low = high + 1 \n",
    "                frames = getFrames(idxs, imgpath)\n",
    "                for i in range(segments):\n",
    "                    X[i].append(frames[i])\n",
    "                    Y[i].append(batch_y[index])\n",
    "            \n",
    "        return [np.array(X[key]) for key in X.keys()],[np.array(Y[key]) for key in Y.keys()]\n",
    "    \n",
    "    \n",
    "    def getFrames(self,idxs, imgpath):\n",
    "\n",
    "        stack = list()\n",
    "        for i in idxs:\n",
    "            framename = \"frame_\"+str(i)+\".jpg\"\n",
    "            img = cv2.imread(os.path.join(imgpath,framename))\n",
    "            grayimg = cv2.cvtColor(img,cv2.COLOR_BGR2GRAY)\n",
    "            grayimg = np.expand_dims(grayimg,axis = 2)\n",
    "            stack.append(grayimg)\n",
    "            \n",
    "        return np.array(stack)"
   ]
  },
  {
   "cell_type": "code",
   "execution_count": 39,
   "metadata": {},
   "outputs": [],
   "source": [
    "listpath = \"../ucfTrainTestlist\"\n",
    "ffpath = \"../FramesFlows\"\n",
    "filename = \"custom.txt\"\n",
    "dg = dataGenerator(os.path.join(folderpath,filename),,128)"
   ]
  },
  {
   "cell_type": "code",
   "execution_count": 40,
   "metadata": {},
   "outputs": [
    {
     "ename": "FileNotFoundError",
     "evalue": "[Errno 2] No such file or directory: '../ucfTrainTestlist\\\\custom.txt\\\\ApplyEyeMakeup/v_ApplyEyeMakeup_g08_c01.avi\\\\info.txt'",
     "output_type": "error",
     "traceback": [
      "\u001b[1;31m---------------------------------------------------------------------------\u001b[0m",
      "\u001b[1;31mFileNotFoundError\u001b[0m                         Traceback (most recent call last)",
      "\u001b[1;32m<ipython-input-40-735d9ef839f4>\u001b[0m in \u001b[0;36m<module>\u001b[1;34m\u001b[0m\n\u001b[1;32m----> 1\u001b[1;33m \u001b[0mx\u001b[0m \u001b[1;33m=\u001b[0m \u001b[0mdg\u001b[0m\u001b[1;33m.\u001b[0m\u001b[0m__getitem__\u001b[0m\u001b[1;33m(\u001b[0m\u001b[1;36m0\u001b[0m\u001b[1;33m)\u001b[0m\u001b[1;33m\u001b[0m\u001b[1;33m\u001b[0m\u001b[0m\n\u001b[0m",
      "\u001b[1;32m<ipython-input-38-6452c077004f>\u001b[0m in \u001b[0;36m__getitem__\u001b[1;34m(self, idx)\u001b[0m\n\u001b[0;32m     28\u001b[0m                 \u001b[0minfopath\u001b[0m \u001b[1;33m=\u001b[0m \u001b[0mos\u001b[0m\u001b[1;33m.\u001b[0m\u001b[0mpath\u001b[0m\u001b[1;33m.\u001b[0m\u001b[0mjoin\u001b[0m\u001b[1;33m(\u001b[0m\u001b[0mself\u001b[0m\u001b[1;33m.\u001b[0m\u001b[0mfolderpath\u001b[0m\u001b[1;33m,\u001b[0m\u001b[0meach\u001b[0m\u001b[1;33m,\u001b[0m\u001b[1;34m\"info.txt\"\u001b[0m\u001b[1;33m)\u001b[0m\u001b[1;33m\u001b[0m\u001b[1;33m\u001b[0m\u001b[0m\n\u001b[0;32m     29\u001b[0m                 \u001b[0mimgpath\u001b[0m \u001b[1;33m=\u001b[0m \u001b[0mos\u001b[0m\u001b[1;33m.\u001b[0m\u001b[0mpath\u001b[0m\u001b[1;33m.\u001b[0m\u001b[0mjoin\u001b[0m\u001b[1;33m(\u001b[0m\u001b[0mself\u001b[0m\u001b[1;33m.\u001b[0m\u001b[0mfolderpath\u001b[0m\u001b[1;33m,\u001b[0m\u001b[0meach\u001b[0m\u001b[1;33m,\u001b[0m\u001b[0mself\u001b[0m\u001b[1;33m.\u001b[0m\u001b[0mftype\u001b[0m\u001b[1;33m)\u001b[0m\u001b[1;33m\u001b[0m\u001b[1;33m\u001b[0m\u001b[0m\n\u001b[1;32m---> 30\u001b[1;33m                 \u001b[0mf\u001b[0m \u001b[1;33m=\u001b[0m \u001b[0mopen\u001b[0m\u001b[1;33m(\u001b[0m\u001b[0minfopath\u001b[0m\u001b[1;33m,\u001b[0m\u001b[1;34m\"r\"\u001b[0m\u001b[1;33m)\u001b[0m\u001b[1;33m\u001b[0m\u001b[1;33m\u001b[0m\u001b[0m\n\u001b[0m\u001b[0;32m     31\u001b[0m                 \u001b[0mtotal_frames\u001b[0m \u001b[1;33m=\u001b[0m \u001b[0mint\u001b[0m\u001b[1;33m(\u001b[0m\u001b[0mf\u001b[0m\u001b[1;33m.\u001b[0m\u001b[0mreadlines\u001b[0m\u001b[1;33m(\u001b[0m\u001b[1;33m)\u001b[0m\u001b[1;33m[\u001b[0m\u001b[1;36m0\u001b[0m\u001b[1;33m]\u001b[0m\u001b[1;33m.\u001b[0m\u001b[0mstrip\u001b[0m\u001b[1;33m(\u001b[0m\u001b[1;33m)\u001b[0m\u001b[1;33m.\u001b[0m\u001b[0msplit\u001b[0m\u001b[1;33m(\u001b[0m\u001b[1;34m':'\u001b[0m\u001b[1;33m)\u001b[0m\u001b[1;33m[\u001b[0m\u001b[1;36m1\u001b[0m\u001b[1;33m]\u001b[0m\u001b[1;33m)\u001b[0m\u001b[1;33m\u001b[0m\u001b[1;33m\u001b[0m\u001b[0m\n\u001b[0;32m     32\u001b[0m                 \u001b[0mf\u001b[0m\u001b[1;33m.\u001b[0m\u001b[0mclose\u001b[0m\u001b[1;33m(\u001b[0m\u001b[1;33m)\u001b[0m\u001b[1;33m\u001b[0m\u001b[1;33m\u001b[0m\u001b[0m\n",
      "\u001b[1;31mFileNotFoundError\u001b[0m: [Errno 2] No such file or directory: '../ucfTrainTestlist\\\\custom.txt\\\\ApplyEyeMakeup/v_ApplyEyeMakeup_g08_c01.avi\\\\info.txt'"
     ]
    }
   ],
   "source": [
    "x = dg.__getitem__(0)"
   ]
  },
  {
   "cell_type": "code",
   "execution_count": 22,
   "metadata": {},
   "outputs": [
    {
     "name": "stdout",
     "output_type": "stream",
     "text": [
      "WARNING:tensorflow:From C:\\Users\\rkrajpal.WOLFTECH\\AppData\\Local\\conda\\conda\\envs\\adbi\\lib\\site-packages\\tensorflow\\python\\framework\\op_def_library.py:263: colocate_with (from tensorflow.python.framework.ops) is deprecated and will be removed in a future version.\n",
      "Instructions for updating:\n",
      "Colocations handled automatically by placer.\n"
     ]
    }
   ],
   "source": [
    "#COMPILE MODEL\n",
    "model = TSN()"
   ]
  },
  {
   "cell_type": "code",
   "execution_count": 25,
   "metadata": {},
   "outputs": [],
   "source": [
    "model.compile(optimizer= keras.optimizers.Adam(lr=0.0001), loss='categorical_crossentropy', metrics=['accuracy'])"
   ]
  },
  {
   "cell_type": "code",
   "execution_count": 26,
   "metadata": {
    "scrolled": true
   },
   "outputs": [
    {
     "name": "stdout",
     "output_type": "stream",
     "text": [
      "WARNING:tensorflow:From C:\\Users\\rkrajpal.WOLFTECH\\AppData\\Local\\conda\\conda\\envs\\adbi\\lib\\site-packages\\tensorflow\\python\\ops\\math_ops.py:3066: to_int32 (from tensorflow.python.ops.math_ops) is deprecated and will be removed in a future version.\n",
      "Instructions for updating:\n",
      "Use tf.cast instead.\n",
      "Epoch 1/1\n"
     ]
    },
    {
     "ename": "KeyboardInterrupt",
     "evalue": "",
     "output_type": "error",
     "traceback": [
      "\u001b[1;31m---------------------------------------------------------------------------\u001b[0m",
      "\u001b[1;31mKeyboardInterrupt\u001b[0m                         Traceback (most recent call last)",
      "\u001b[1;32m<ipython-input-26-bf4eed1a1d32>\u001b[0m in \u001b[0;36m<module>\u001b[1;34m\u001b[0m\n\u001b[1;32m----> 1\u001b[1;33m \u001b[0mmodel\u001b[0m\u001b[1;33m.\u001b[0m\u001b[0mfit\u001b[0m\u001b[1;33m(\u001b[0m\u001b[1;33m[\u001b[0m\u001b[0mnp\u001b[0m\u001b[1;33m.\u001b[0m\u001b[0marray\u001b[0m\u001b[1;33m(\u001b[0m\u001b[0mframesSegments\u001b[0m\u001b[1;33m[\u001b[0m\u001b[1;36m0\u001b[0m\u001b[1;33m]\u001b[0m\u001b[1;33m)\u001b[0m\u001b[1;33m,\u001b[0m\u001b[0mnp\u001b[0m\u001b[1;33m.\u001b[0m\u001b[0marray\u001b[0m\u001b[1;33m(\u001b[0m\u001b[0mframesSegments\u001b[0m\u001b[1;33m[\u001b[0m\u001b[1;36m1\u001b[0m\u001b[1;33m]\u001b[0m\u001b[1;33m)\u001b[0m\u001b[1;33m,\u001b[0m\u001b[0mnp\u001b[0m\u001b[1;33m.\u001b[0m\u001b[0marray\u001b[0m\u001b[1;33m(\u001b[0m\u001b[0mframesSegments\u001b[0m\u001b[1;33m[\u001b[0m\u001b[1;36m2\u001b[0m\u001b[1;33m]\u001b[0m\u001b[1;33m)\u001b[0m\u001b[1;33m,\u001b[0m\u001b[0mnp\u001b[0m\u001b[1;33m.\u001b[0m\u001b[0marray\u001b[0m\u001b[1;33m(\u001b[0m\u001b[0mflows\u001b[0m\u001b[1;33m[\u001b[0m\u001b[1;36m0\u001b[0m\u001b[1;33m]\u001b[0m\u001b[1;33m)\u001b[0m\u001b[1;33m,\u001b[0m\u001b[0mnp\u001b[0m\u001b[1;33m.\u001b[0m\u001b[0marray\u001b[0m\u001b[1;33m(\u001b[0m\u001b[0mflows\u001b[0m\u001b[1;33m[\u001b[0m\u001b[1;36m1\u001b[0m\u001b[1;33m]\u001b[0m\u001b[1;33m)\u001b[0m\u001b[1;33m,\u001b[0m\u001b[0mnp\u001b[0m\u001b[1;33m.\u001b[0m\u001b[0marray\u001b[0m\u001b[1;33m(\u001b[0m\u001b[0mflows\u001b[0m\u001b[1;33m[\u001b[0m\u001b[1;36m2\u001b[0m\u001b[1;33m]\u001b[0m\u001b[1;33m)\u001b[0m\u001b[1;33m]\u001b[0m\u001b[1;33m,\u001b[0m\u001b[0myFramesTrueSegments\u001b[0m\u001b[1;33m[\u001b[0m\u001b[1;36m0\u001b[0m\u001b[1;33m]\u001b[0m\u001b[1;33m,\u001b[0m\u001b[0mbatch_size\u001b[0m \u001b[1;33m=\u001b[0m \u001b[1;36m3\u001b[0m\u001b[1;33m,\u001b[0m \u001b[0mepochs\u001b[0m \u001b[1;33m=\u001b[0m \u001b[1;36m1\u001b[0m\u001b[1;33m)\u001b[0m\u001b[1;33m\u001b[0m\u001b[1;33m\u001b[0m\u001b[0m\n\u001b[0m",
      "\u001b[1;32m~\\AppData\\Local\\conda\\conda\\envs\\adbi\\lib\\site-packages\\keras\\engine\\training.py\u001b[0m in \u001b[0;36mfit\u001b[1;34m(self, x, y, batch_size, epochs, verbose, callbacks, validation_split, validation_data, shuffle, class_weight, sample_weight, initial_epoch, steps_per_epoch, validation_steps, **kwargs)\u001b[0m\n\u001b[0;32m   1037\u001b[0m                                         \u001b[0minitial_epoch\u001b[0m\u001b[1;33m=\u001b[0m\u001b[0minitial_epoch\u001b[0m\u001b[1;33m,\u001b[0m\u001b[1;33m\u001b[0m\u001b[1;33m\u001b[0m\u001b[0m\n\u001b[0;32m   1038\u001b[0m                                         \u001b[0msteps_per_epoch\u001b[0m\u001b[1;33m=\u001b[0m\u001b[0msteps_per_epoch\u001b[0m\u001b[1;33m,\u001b[0m\u001b[1;33m\u001b[0m\u001b[1;33m\u001b[0m\u001b[0m\n\u001b[1;32m-> 1039\u001b[1;33m                                         validation_steps=validation_steps)\n\u001b[0m\u001b[0;32m   1040\u001b[0m \u001b[1;33m\u001b[0m\u001b[0m\n\u001b[0;32m   1041\u001b[0m     def evaluate(self, x=None, y=None,\n",
      "\u001b[1;32m~\\AppData\\Local\\conda\\conda\\envs\\adbi\\lib\\site-packages\\keras\\engine\\training_arrays.py\u001b[0m in \u001b[0;36mfit_loop\u001b[1;34m(model, f, ins, out_labels, batch_size, epochs, verbose, callbacks, val_f, val_ins, shuffle, callback_metrics, initial_epoch, steps_per_epoch, validation_steps)\u001b[0m\n\u001b[0;32m    197\u001b[0m                     \u001b[0mins_batch\u001b[0m\u001b[1;33m[\u001b[0m\u001b[0mi\u001b[0m\u001b[1;33m]\u001b[0m \u001b[1;33m=\u001b[0m \u001b[0mins_batch\u001b[0m\u001b[1;33m[\u001b[0m\u001b[0mi\u001b[0m\u001b[1;33m]\u001b[0m\u001b[1;33m.\u001b[0m\u001b[0mtoarray\u001b[0m\u001b[1;33m(\u001b[0m\u001b[1;33m)\u001b[0m\u001b[1;33m\u001b[0m\u001b[1;33m\u001b[0m\u001b[0m\n\u001b[0;32m    198\u001b[0m \u001b[1;33m\u001b[0m\u001b[0m\n\u001b[1;32m--> 199\u001b[1;33m                 \u001b[0mouts\u001b[0m \u001b[1;33m=\u001b[0m \u001b[0mf\u001b[0m\u001b[1;33m(\u001b[0m\u001b[0mins_batch\u001b[0m\u001b[1;33m)\u001b[0m\u001b[1;33m\u001b[0m\u001b[1;33m\u001b[0m\u001b[0m\n\u001b[0m\u001b[0;32m    200\u001b[0m                 \u001b[0mouts\u001b[0m \u001b[1;33m=\u001b[0m \u001b[0mto_list\u001b[0m\u001b[1;33m(\u001b[0m\u001b[0mouts\u001b[0m\u001b[1;33m)\u001b[0m\u001b[1;33m\u001b[0m\u001b[1;33m\u001b[0m\u001b[0m\n\u001b[0;32m    201\u001b[0m                 \u001b[1;32mfor\u001b[0m \u001b[0ml\u001b[0m\u001b[1;33m,\u001b[0m \u001b[0mo\u001b[0m \u001b[1;32min\u001b[0m \u001b[0mzip\u001b[0m\u001b[1;33m(\u001b[0m\u001b[0mout_labels\u001b[0m\u001b[1;33m,\u001b[0m \u001b[0mouts\u001b[0m\u001b[1;33m)\u001b[0m\u001b[1;33m:\u001b[0m\u001b[1;33m\u001b[0m\u001b[1;33m\u001b[0m\u001b[0m\n",
      "\u001b[1;32m~\\AppData\\Local\\conda\\conda\\envs\\adbi\\lib\\site-packages\\keras\\backend\\tensorflow_backend.py\u001b[0m in \u001b[0;36m__call__\u001b[1;34m(self, inputs)\u001b[0m\n\u001b[0;32m   2695\u001b[0m \u001b[1;33m\u001b[0m\u001b[0m\n\u001b[0;32m   2696\u001b[0m     \u001b[1;32mdef\u001b[0m \u001b[0m__call__\u001b[0m\u001b[1;33m(\u001b[0m\u001b[0mself\u001b[0m\u001b[1;33m,\u001b[0m \u001b[0minputs\u001b[0m\u001b[1;33m)\u001b[0m\u001b[1;33m:\u001b[0m\u001b[1;33m\u001b[0m\u001b[1;33m\u001b[0m\u001b[0m\n\u001b[1;32m-> 2697\u001b[1;33m         \u001b[1;32mif\u001b[0m \u001b[0mhasattr\u001b[0m\u001b[1;33m(\u001b[0m\u001b[0mget_session\u001b[0m\u001b[1;33m(\u001b[0m\u001b[1;33m)\u001b[0m\u001b[1;33m,\u001b[0m \u001b[1;34m'_make_callable_from_options'\u001b[0m\u001b[1;33m)\u001b[0m\u001b[1;33m:\u001b[0m\u001b[1;33m\u001b[0m\u001b[1;33m\u001b[0m\u001b[0m\n\u001b[0m\u001b[0;32m   2698\u001b[0m             \u001b[1;32mif\u001b[0m \u001b[0mpy_any\u001b[0m\u001b[1;33m(\u001b[0m\u001b[0mis_sparse\u001b[0m\u001b[1;33m(\u001b[0m\u001b[0mx\u001b[0m\u001b[1;33m)\u001b[0m \u001b[1;32mfor\u001b[0m \u001b[0mx\u001b[0m \u001b[1;32min\u001b[0m \u001b[0mself\u001b[0m\u001b[1;33m.\u001b[0m\u001b[0minputs\u001b[0m\u001b[1;33m)\u001b[0m\u001b[1;33m:\u001b[0m\u001b[1;33m\u001b[0m\u001b[1;33m\u001b[0m\u001b[0m\n\u001b[0;32m   2699\u001b[0m                 \u001b[1;32mif\u001b[0m \u001b[0mpy_any\u001b[0m\u001b[1;33m(\u001b[0m\u001b[0mis_tensor\u001b[0m\u001b[1;33m(\u001b[0m\u001b[0mx\u001b[0m\u001b[1;33m)\u001b[0m \u001b[1;32mfor\u001b[0m \u001b[0mx\u001b[0m \u001b[1;32min\u001b[0m \u001b[0minputs\u001b[0m\u001b[1;33m)\u001b[0m\u001b[1;33m:\u001b[0m\u001b[1;33m\u001b[0m\u001b[1;33m\u001b[0m\u001b[0m\n",
      "\u001b[1;32m~\\AppData\\Local\\conda\\conda\\envs\\adbi\\lib\\site-packages\\keras\\backend\\tensorflow_backend.py\u001b[0m in \u001b[0;36mget_session\u001b[1;34m()\u001b[0m\n\u001b[0;32m    204\u001b[0m                     \u001b[0mv\u001b[0m\u001b[1;33m.\u001b[0m\u001b[0m_keras_initialized\u001b[0m \u001b[1;33m=\u001b[0m \u001b[1;32mTrue\u001b[0m\u001b[1;33m\u001b[0m\u001b[1;33m\u001b[0m\u001b[0m\n\u001b[0;32m    205\u001b[0m                 \u001b[1;32mif\u001b[0m \u001b[0muninitialized_vars\u001b[0m\u001b[1;33m:\u001b[0m\u001b[1;33m\u001b[0m\u001b[1;33m\u001b[0m\u001b[0m\n\u001b[1;32m--> 206\u001b[1;33m                     \u001b[0msession\u001b[0m\u001b[1;33m.\u001b[0m\u001b[0mrun\u001b[0m\u001b[1;33m(\u001b[0m\u001b[0mtf\u001b[0m\u001b[1;33m.\u001b[0m\u001b[0mvariables_initializer\u001b[0m\u001b[1;33m(\u001b[0m\u001b[0muninitialized_vars\u001b[0m\u001b[1;33m)\u001b[0m\u001b[1;33m)\u001b[0m\u001b[1;33m\u001b[0m\u001b[1;33m\u001b[0m\u001b[0m\n\u001b[0m\u001b[0;32m    207\u001b[0m     \u001b[1;31m# hack for list_devices() function.\u001b[0m\u001b[1;33m\u001b[0m\u001b[1;33m\u001b[0m\u001b[1;33m\u001b[0m\u001b[0m\n\u001b[0;32m    208\u001b[0m     \u001b[1;31m# list_devices() function is not available under tensorflow r1.3.\u001b[0m\u001b[1;33m\u001b[0m\u001b[1;33m\u001b[0m\u001b[1;33m\u001b[0m\u001b[0m\n",
      "\u001b[1;32m~\\AppData\\Local\\conda\\conda\\envs\\adbi\\lib\\site-packages\\tensorflow\\python\\client\\session.py\u001b[0m in \u001b[0;36mrun\u001b[1;34m(self, fetches, feed_dict, options, run_metadata)\u001b[0m\n\u001b[0;32m    927\u001b[0m     \u001b[1;32mtry\u001b[0m\u001b[1;33m:\u001b[0m\u001b[1;33m\u001b[0m\u001b[1;33m\u001b[0m\u001b[0m\n\u001b[0;32m    928\u001b[0m       result = self._run(None, fetches, feed_dict, options_ptr,\n\u001b[1;32m--> 929\u001b[1;33m                          run_metadata_ptr)\n\u001b[0m\u001b[0;32m    930\u001b[0m       \u001b[1;32mif\u001b[0m \u001b[0mrun_metadata\u001b[0m\u001b[1;33m:\u001b[0m\u001b[1;33m\u001b[0m\u001b[1;33m\u001b[0m\u001b[0m\n\u001b[0;32m    931\u001b[0m         \u001b[0mproto_data\u001b[0m \u001b[1;33m=\u001b[0m \u001b[0mtf_session\u001b[0m\u001b[1;33m.\u001b[0m\u001b[0mTF_GetBuffer\u001b[0m\u001b[1;33m(\u001b[0m\u001b[0mrun_metadata_ptr\u001b[0m\u001b[1;33m)\u001b[0m\u001b[1;33m\u001b[0m\u001b[1;33m\u001b[0m\u001b[0m\n",
      "\u001b[1;32m~\\AppData\\Local\\conda\\conda\\envs\\adbi\\lib\\site-packages\\tensorflow\\python\\client\\session.py\u001b[0m in \u001b[0;36m_run\u001b[1;34m(self, handle, fetches, feed_dict, options, run_metadata)\u001b[0m\n\u001b[0;32m   1150\u001b[0m     \u001b[1;32mif\u001b[0m \u001b[0mfinal_fetches\u001b[0m \u001b[1;32mor\u001b[0m \u001b[0mfinal_targets\u001b[0m \u001b[1;32mor\u001b[0m \u001b[1;33m(\u001b[0m\u001b[0mhandle\u001b[0m \u001b[1;32mand\u001b[0m \u001b[0mfeed_dict_tensor\u001b[0m\u001b[1;33m)\u001b[0m\u001b[1;33m:\u001b[0m\u001b[1;33m\u001b[0m\u001b[1;33m\u001b[0m\u001b[0m\n\u001b[0;32m   1151\u001b[0m       results = self._do_run(handle, final_targets, final_fetches,\n\u001b[1;32m-> 1152\u001b[1;33m                              feed_dict_tensor, options, run_metadata)\n\u001b[0m\u001b[0;32m   1153\u001b[0m     \u001b[1;32melse\u001b[0m\u001b[1;33m:\u001b[0m\u001b[1;33m\u001b[0m\u001b[1;33m\u001b[0m\u001b[0m\n\u001b[0;32m   1154\u001b[0m       \u001b[0mresults\u001b[0m \u001b[1;33m=\u001b[0m \u001b[1;33m[\u001b[0m\u001b[1;33m]\u001b[0m\u001b[1;33m\u001b[0m\u001b[1;33m\u001b[0m\u001b[0m\n",
      "\u001b[1;32m~\\AppData\\Local\\conda\\conda\\envs\\adbi\\lib\\site-packages\\tensorflow\\python\\client\\session.py\u001b[0m in \u001b[0;36m_do_run\u001b[1;34m(self, handle, target_list, fetch_list, feed_dict, options, run_metadata)\u001b[0m\n\u001b[0;32m   1326\u001b[0m     \u001b[1;32mif\u001b[0m \u001b[0mhandle\u001b[0m \u001b[1;32mis\u001b[0m \u001b[1;32mNone\u001b[0m\u001b[1;33m:\u001b[0m\u001b[1;33m\u001b[0m\u001b[1;33m\u001b[0m\u001b[0m\n\u001b[0;32m   1327\u001b[0m       return self._do_call(_run_fn, feeds, fetches, targets, options,\n\u001b[1;32m-> 1328\u001b[1;33m                            run_metadata)\n\u001b[0m\u001b[0;32m   1329\u001b[0m     \u001b[1;32melse\u001b[0m\u001b[1;33m:\u001b[0m\u001b[1;33m\u001b[0m\u001b[1;33m\u001b[0m\u001b[0m\n\u001b[0;32m   1330\u001b[0m       \u001b[1;32mreturn\u001b[0m \u001b[0mself\u001b[0m\u001b[1;33m.\u001b[0m\u001b[0m_do_call\u001b[0m\u001b[1;33m(\u001b[0m\u001b[0m_prun_fn\u001b[0m\u001b[1;33m,\u001b[0m \u001b[0mhandle\u001b[0m\u001b[1;33m,\u001b[0m \u001b[0mfeeds\u001b[0m\u001b[1;33m,\u001b[0m \u001b[0mfetches\u001b[0m\u001b[1;33m)\u001b[0m\u001b[1;33m\u001b[0m\u001b[1;33m\u001b[0m\u001b[0m\n",
      "\u001b[1;32m~\\AppData\\Local\\conda\\conda\\envs\\adbi\\lib\\site-packages\\tensorflow\\python\\client\\session.py\u001b[0m in \u001b[0;36m_do_call\u001b[1;34m(self, fn, *args)\u001b[0m\n\u001b[0;32m   1332\u001b[0m   \u001b[1;32mdef\u001b[0m \u001b[0m_do_call\u001b[0m\u001b[1;33m(\u001b[0m\u001b[0mself\u001b[0m\u001b[1;33m,\u001b[0m \u001b[0mfn\u001b[0m\u001b[1;33m,\u001b[0m \u001b[1;33m*\u001b[0m\u001b[0margs\u001b[0m\u001b[1;33m)\u001b[0m\u001b[1;33m:\u001b[0m\u001b[1;33m\u001b[0m\u001b[1;33m\u001b[0m\u001b[0m\n\u001b[0;32m   1333\u001b[0m     \u001b[1;32mtry\u001b[0m\u001b[1;33m:\u001b[0m\u001b[1;33m\u001b[0m\u001b[1;33m\u001b[0m\u001b[0m\n\u001b[1;32m-> 1334\u001b[1;33m       \u001b[1;32mreturn\u001b[0m \u001b[0mfn\u001b[0m\u001b[1;33m(\u001b[0m\u001b[1;33m*\u001b[0m\u001b[0margs\u001b[0m\u001b[1;33m)\u001b[0m\u001b[1;33m\u001b[0m\u001b[1;33m\u001b[0m\u001b[0m\n\u001b[0m\u001b[0;32m   1335\u001b[0m     \u001b[1;32mexcept\u001b[0m \u001b[0merrors\u001b[0m\u001b[1;33m.\u001b[0m\u001b[0mOpError\u001b[0m \u001b[1;32mas\u001b[0m \u001b[0me\u001b[0m\u001b[1;33m:\u001b[0m\u001b[1;33m\u001b[0m\u001b[1;33m\u001b[0m\u001b[0m\n\u001b[0;32m   1336\u001b[0m       \u001b[0mmessage\u001b[0m \u001b[1;33m=\u001b[0m \u001b[0mcompat\u001b[0m\u001b[1;33m.\u001b[0m\u001b[0mas_text\u001b[0m\u001b[1;33m(\u001b[0m\u001b[0me\u001b[0m\u001b[1;33m.\u001b[0m\u001b[0mmessage\u001b[0m\u001b[1;33m)\u001b[0m\u001b[1;33m\u001b[0m\u001b[1;33m\u001b[0m\u001b[0m\n",
      "\u001b[1;32m~\\AppData\\Local\\conda\\conda\\envs\\adbi\\lib\\site-packages\\tensorflow\\python\\client\\session.py\u001b[0m in \u001b[0;36m_run_fn\u001b[1;34m(feed_dict, fetch_list, target_list, options, run_metadata)\u001b[0m\n\u001b[0;32m   1317\u001b[0m       \u001b[0mself\u001b[0m\u001b[1;33m.\u001b[0m\u001b[0m_extend_graph\u001b[0m\u001b[1;33m(\u001b[0m\u001b[1;33m)\u001b[0m\u001b[1;33m\u001b[0m\u001b[1;33m\u001b[0m\u001b[0m\n\u001b[0;32m   1318\u001b[0m       return self._call_tf_sessionrun(\n\u001b[1;32m-> 1319\u001b[1;33m           options, feed_dict, fetch_list, target_list, run_metadata)\n\u001b[0m\u001b[0;32m   1320\u001b[0m \u001b[1;33m\u001b[0m\u001b[0m\n\u001b[0;32m   1321\u001b[0m     \u001b[1;32mdef\u001b[0m \u001b[0m_prun_fn\u001b[0m\u001b[1;33m(\u001b[0m\u001b[0mhandle\u001b[0m\u001b[1;33m,\u001b[0m \u001b[0mfeed_dict\u001b[0m\u001b[1;33m,\u001b[0m \u001b[0mfetch_list\u001b[0m\u001b[1;33m)\u001b[0m\u001b[1;33m:\u001b[0m\u001b[1;33m\u001b[0m\u001b[1;33m\u001b[0m\u001b[0m\n",
      "\u001b[1;32m~\\AppData\\Local\\conda\\conda\\envs\\adbi\\lib\\site-packages\\tensorflow\\python\\client\\session.py\u001b[0m in \u001b[0;36m_call_tf_sessionrun\u001b[1;34m(self, options, feed_dict, fetch_list, target_list, run_metadata)\u001b[0m\n\u001b[0;32m   1405\u001b[0m     return tf_session.TF_SessionRun_wrapper(\n\u001b[0;32m   1406\u001b[0m         \u001b[0mself\u001b[0m\u001b[1;33m.\u001b[0m\u001b[0m_session\u001b[0m\u001b[1;33m,\u001b[0m \u001b[0moptions\u001b[0m\u001b[1;33m,\u001b[0m \u001b[0mfeed_dict\u001b[0m\u001b[1;33m,\u001b[0m \u001b[0mfetch_list\u001b[0m\u001b[1;33m,\u001b[0m \u001b[0mtarget_list\u001b[0m\u001b[1;33m,\u001b[0m\u001b[1;33m\u001b[0m\u001b[1;33m\u001b[0m\u001b[0m\n\u001b[1;32m-> 1407\u001b[1;33m         run_metadata)\n\u001b[0m\u001b[0;32m   1408\u001b[0m \u001b[1;33m\u001b[0m\u001b[0m\n\u001b[0;32m   1409\u001b[0m   \u001b[1;32mdef\u001b[0m \u001b[0m_call_tf_sessionprun\u001b[0m\u001b[1;33m(\u001b[0m\u001b[0mself\u001b[0m\u001b[1;33m,\u001b[0m \u001b[0mhandle\u001b[0m\u001b[1;33m,\u001b[0m \u001b[0mfeed_dict\u001b[0m\u001b[1;33m,\u001b[0m \u001b[0mfetch_list\u001b[0m\u001b[1;33m)\u001b[0m\u001b[1;33m:\u001b[0m\u001b[1;33m\u001b[0m\u001b[1;33m\u001b[0m\u001b[0m\n",
      "\u001b[1;31mKeyboardInterrupt\u001b[0m: "
     ]
    }
   ],
   "source": [
    "model.fit([np.array(framesSegments[0]),np.array(framesSegments[1]),np.array(framesSegments[2]),np.array(flows[0]),np.array(flows[1]),np.array(flows[2])],yFramesTrueSegments[0],batch_size = 3, epochs = 1)"
   ]
  }
 ],
 "metadata": {
  "kernelspec": {
   "display_name": "Python 3",
   "language": "python",
   "name": "python3"
  },
  "language_info": {
   "codemirror_mode": {
    "name": "ipython",
    "version": 3
   },
   "file_extension": ".py",
   "mimetype": "text/x-python",
   "name": "python",
   "nbconvert_exporter": "python",
   "pygments_lexer": "ipython3",
   "version": "3.6.8"
  }
 },
 "nbformat": 4,
 "nbformat_minor": 2
}
