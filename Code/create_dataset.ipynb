{
 "cells": [
  {
   "cell_type": "code",
   "execution_count": 1,
   "metadata": {},
   "outputs": [],
   "source": [
    "import os\n",
    "from collections import defaultdict\n",
    "import numpy as np"
   ]
  },
  {
   "cell_type": "code",
   "execution_count": 7,
   "metadata": {},
   "outputs": [],
   "source": [
    "file = \"custom2.txt\"\n",
    "\n",
    "fromfile = \"trainlist01.txt\"\n",
    "\n",
    "# classes = set(os.listdir(\"../../VidRecognizer_old/FramesFlows/custom\"))\n",
    "classes = set(os.listdir(\"../FramesFlows/trainlist01\"))"
   ]
  },
  {
   "cell_type": "code",
   "execution_count": null,
   "metadata": {},
   "outputs": [],
   "source": []
  },
  {
   "cell_type": "code",
   "execution_count": 9,
   "metadata": {},
   "outputs": [],
   "source": [
    "fr = open(os.path.join(\"../ucfTrainTestlist\", fromfile), \"r\")\n",
    "fw = open(os.path.join(\"../ucfTrainTestlist\", file), \"w\")\n",
    "for line in fr.readlines():\n",
    "    arr = line.strip().split('/')\n",
    "    if arr[0] in classes and arr[1].split('_')[2] in {'g08','g09','g10','g11','g12'}:\n",
    "        fw.write(line.strip())\n",
    "        fw.write('\\n')"
   ]
  },
  {
   "cell_type": "code",
   "execution_count": 10,
   "metadata": {},
   "outputs": [],
   "source": [
    "fr.close()\n",
    "fw.close()"
   ]
  },
  {
   "cell_type": "code",
   "execution_count": 11,
   "metadata": {},
   "outputs": [],
   "source": [
    "fr = open(os.path.join(\"../ucfTrainTestlist\", file), \"r\")\n",
    "ft = open(os.path.join(\"../ucfTrainTestlist\", \"custom2Train.txt\"), \"w\")\n",
    "fv = open(os.path.join(\"../ucfTrainTestlist\", \"custom2Val.txt\"), \"w\")"
   ]
  },
  {
   "cell_type": "code",
   "execution_count": 12,
   "metadata": {},
   "outputs": [],
   "source": [
    "lines = fr.readlines()\n",
    "fr.close()"
   ]
  },
  {
   "cell_type": "code",
   "execution_count": 13,
   "metadata": {},
   "outputs": [],
   "source": [
    "classes = defaultdict(list)"
   ]
  },
  {
   "cell_type": "code",
   "execution_count": 14,
   "metadata": {},
   "outputs": [],
   "source": [
    "for line in lines:\n",
    "    line = line\n",
    "#     print (line)\n",
    "    classes[line.split(\"/\")[0]].append(line)"
   ]
  },
  {
   "cell_type": "code",
   "execution_count": 15,
   "metadata": {},
   "outputs": [],
   "source": [
    "# print (np.array(classes['Haircut']))\n",
    "for key in classes.keys():\n",
    "    lines = np.array(classes[key])\n",
    "    divided = np.array_split(lines,3)\n",
    "    train = np.concatenate((divided[0], divided[1]), axis=None).flatten()\n",
    "    val = divided[2]\n",
    "    ft.writelines(train)\n",
    "    fv.writelines(val)"
   ]
  },
  {
   "cell_type": "code",
   "execution_count": 16,
   "metadata": {},
   "outputs": [],
   "source": [
    "ft.close()\n",
    "fv.close()"
   ]
  }
 ],
 "metadata": {
  "kernelspec": {
   "display_name": "Python 3",
   "language": "python",
   "name": "python3"
  },
  "language_info": {
   "codemirror_mode": {
    "name": "ipython",
    "version": 3
   },
   "file_extension": ".py",
   "mimetype": "text/x-python",
   "name": "python",
   "nbconvert_exporter": "python",
   "pygments_lexer": "ipython3",
   "version": "3.6.7"
  }
 },
 "nbformat": 4,
 "nbformat_minor": 2
}
