{
 "cells": [
  {
   "cell_type": "code",
   "execution_count": 39,
   "metadata": {},
   "outputs": [],
   "source": [
    "import os\n",
    "from collections import defaultdict\n",
    "import numpy as np"
   ]
  },
  {
   "cell_type": "code",
   "execution_count": 22,
   "metadata": {},
   "outputs": [],
   "source": [
    "file = \"custom.txt\"\n",
    "\n",
    "fromfile = \"trainlist01.txt\"\n",
    "\n",
    "classes = set(os.listdir(\"../../VidRecognizer_old/FramesFlows/custom\"))"
   ]
  },
  {
   "cell_type": "code",
   "execution_count": 23,
   "metadata": {},
   "outputs": [],
   "source": [
    "fr = open(os.path.join(\"../ucfTrainTestlist\", fromfile), \"r\")\n",
    "fw = open(os.path.join(\"../ucfTrainTestlist\", file), \"w\")\n",
    "for line in fr.readlines():\n",
    "    arr = line.strip().split('/')\n",
    "    if arr[0] in classes and arr[1].split('_')[2] in {'g08','g09'}:\n",
    "        fw.write(line.strip())\n",
    "        fw.write('\\n')"
   ]
  },
  {
   "cell_type": "code",
   "execution_count": 24,
   "metadata": {},
   "outputs": [],
   "source": [
    "fr.close()\n",
    "fw.close()"
   ]
  },
  {
   "cell_type": "code",
   "execution_count": 94,
   "metadata": {},
   "outputs": [],
   "source": [
    "fr = open(os.path.join(\"../ucfTrainTestlist\", file), \"r\")\n",
    "ft = open(os.path.join(\"../ucfTrainTestlist\", \"customTrain.txt\"), \"w\")\n",
    "fv = open(os.path.join(\"../ucfTrainTestlist\", \"customVal.txt\"), \"w\")"
   ]
  },
  {
   "cell_type": "code",
   "execution_count": 95,
   "metadata": {},
   "outputs": [],
   "source": [
    "lines = fr.readlines()\n",
    "fr.close()"
   ]
  },
  {
   "cell_type": "code",
   "execution_count": 96,
   "metadata": {},
   "outputs": [],
   "source": [
    "classes = defaultdict(list)"
   ]
  },
  {
   "cell_type": "code",
   "execution_count": 97,
   "metadata": {},
   "outputs": [],
   "source": [
    "for line in lines:\n",
    "    line = line\n",
    "#     print (line)\n",
    "    classes[line.split(\"/\")[0]].append(line)"
   ]
  },
  {
   "cell_type": "code",
   "execution_count": 98,
   "metadata": {},
   "outputs": [],
   "source": [
    "# print (np.array(classes['Haircut']))\n",
    "for key in classes.keys():\n",
    "    lines = np.array(classes[key])\n",
    "    divided = np.array_split(lines,3)\n",
    "    train = np.concatenate((divided[0], divided[1]), axis=None).flatten()\n",
    "    val = divided[2]\n",
    "    ft.writelines(train)\n",
    "    fv.writelines(val)"
   ]
  },
  {
   "cell_type": "code",
   "execution_count": 99,
   "metadata": {},
   "outputs": [],
   "source": [
    "ft.close()\n",
    "fv.close()"
   ]
  }
 ],
 "metadata": {
  "kernelspec": {
   "display_name": "Python 3",
   "language": "python",
   "name": "python3"
  },
  "language_info": {
   "codemirror_mode": {
    "name": "ipython",
    "version": 3
   },
   "file_extension": ".py",
   "mimetype": "text/x-python",
   "name": "python",
   "nbconvert_exporter": "python",
   "pygments_lexer": "ipython3",
   "version": "3.6.8"
  }
 },
 "nbformat": 4,
 "nbformat_minor": 2
}
